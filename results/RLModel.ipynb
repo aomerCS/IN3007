{
 "cells": [
  {
   "cell_type": "code",
   "execution_count": 9,
   "metadata": {
    "collapsed": true
   },
   "outputs": [],
   "source": [
    "# Import of custom gym.Env\n",
    "from gym_env.envs.pertubation_world import PerturbationEnv\n",
    "\n",
    "# Import checker to ensure environment is suitable for StableBaselines usage\n",
    "from stable_baselines3.common.env_checker import check_env\n",
    "\n",
    "# Import reinforcement learning algorithm library\n",
    "from stable_baselines3 import PPO"
   ]
  },
  {
   "cell_type": "code",
   "execution_count": 10,
   "outputs": [
    {
     "data": {
      "text/plain": "array([0., 0., 0., 0., 0., 0., 0., 0., 0., 0., 0., 0., 0., 0., 0., 0., 0.,\n       0., 0., 0., 0., 0., 0., 0., 0., 0., 0., 0., 0., 0., 0., 0., 0., 0.,\n       0., 0., 0., 0., 0., 0., 0., 0., 0., 0., 0., 0., 0., 0., 0., 0., 0.,\n       0., 0., 0., 0., 0., 0., 0., 0., 0., 0., 0., 0., 0., 0., 0., 0., 0.,\n       0., 0., 0., 0., 0., 0., 0., 0., 0., 0., 0., 0., 0., 0., 0., 0., 0.,\n       0., 0., 0., 0., 0., 0., 0., 0., 0., 0., 0., 0., 0., 0., 0., 0., 0.,\n       0., 0., 0., 0., 0., 0., 0., 0., 0., 0., 0., 0., 0., 0., 0., 0., 0.,\n       0., 0., 0., 0., 0., 0., 0., 0., 0., 0., 0., 0., 0., 0., 0., 0., 0.,\n       0., 0., 0., 0., 0., 0., 0., 0., 0., 0., 0., 0., 0., 0., 0., 0., 0.,\n       0., 0., 0., 0., 0., 0., 0., 0., 0., 0., 0., 0., 0., 0., 0., 0., 0.,\n       0., 0., 0., 0., 0., 0., 0., 0., 0., 0., 0., 0., 0., 0., 0., 0., 0.,\n       0., 0., 0., 0., 0., 0., 0., 0., 0., 0., 0., 0., 0., 0., 0., 0., 0.,\n       0., 0., 0., 0., 0., 0., 0., 0., 0., 0., 0., 0., 0., 0., 0., 0., 0.,\n       0., 0., 0., 0., 0., 0., 0.])"
     },
     "execution_count": 10,
     "metadata": {},
     "output_type": "execute_result"
    }
   ],
   "source": [
    "# Load and initialize environment\n",
    "env = PerturbationEnv()\n",
    "env.reset()"
   ],
   "metadata": {
    "collapsed": false,
    "pycharm": {
     "name": "#%%\n"
    }
   }
  },
  {
   "cell_type": "code",
   "execution_count": 11,
   "outputs": [],
   "source": [
    "# Testing the environment\n",
    "# Code taken from: https://stable-baselines3.readthedocs.io/en/master/guide/custom_env.html\n",
    "check_env(env)"
   ],
   "metadata": {
    "collapsed": false,
    "pycharm": {
     "name": "#%%\n"
    }
   }
  },
  {
   "cell_type": "code",
   "execution_count": 12,
   "outputs": [
    {
     "name": "stdout",
     "output_type": "stream",
     "text": [
      "sample action: [0.35950097 0.70226544 0.26962784]\n",
      "observation space shape: (228,)\n",
      "sample observation: [0.2477615  0.03034271 0.60494286 0.33271996 0.79961528 0.68802966\n",
      " 0.9027152  0.29140587 0.2060194  0.47809474 0.42177881 0.97465804\n",
      " 0.29964627 0.29712994 0.72099725 0.06435566 0.69354377 0.73369981\n",
      " 0.23657018 0.468207   0.18301867 0.13479821 0.12208639 0.97671105\n",
      " 0.46325562 0.10964924 0.65782188 0.7624883  0.65275669 0.34402658\n",
      " 0.86592315 0.87520138 0.77180014 0.0929149  0.03481162 0.05378628\n",
      " 0.0443756  0.64624417 0.99569743 0.56666731 0.15782283 0.83308589\n",
      " 0.59803099 0.12803323 0.52711503 0.13100677 0.33391532 0.97346938\n",
      " 0.79859486 0.23949586 0.45196079 0.19126142 0.30043627 0.87989423\n",
      " 0.24882699 0.89620563 0.50826231 0.38203852 0.75204837 0.75704878\n",
      " 0.78318832 0.22255438 0.55457707 0.63947146 0.1503956  0.25391378\n",
      " 0.04628894 0.73125482 0.44544744 0.85663676 0.48816579 0.44073186\n",
      " 0.09227235 0.83818662 0.46366393 0.65720932 0.92835698 0.21238963\n",
      " 0.68962721 0.16559587 0.83743009 0.85712273 0.0127247  0.6276475\n",
      " 0.46260637 0.61605794 0.42674575 0.63198907 0.63388068 0.44665267\n",
      " 0.13710669 0.53218849 0.96362514 0.79238756 0.05994595 0.0685628\n",
      " 0.83011727 0.18884549 0.08634526 0.17747062 0.47550819 0.55642923\n",
      " 0.82787999 0.09858034 0.62622169 0.1638018  0.27390239 0.78409558\n",
      " 0.33675704 0.65418788 0.26179896 0.11647631 0.7904043  0.07187331\n",
      " 0.77261324 0.69850112 0.7685114  0.81560222 0.22108304 0.57784912\n",
      " 0.82740078 0.30368475 0.2836211  0.29966094 0.98798401 0.0539804\n",
      " 0.16463803 0.8065858  0.97400722 0.38211489 0.53538414 0.43884476\n",
      " 0.24195692 0.58120144 0.23970546 0.7112346  0.43568784 0.92660766\n",
      " 0.33966885 0.04914922 0.64964647 0.51049556 0.67351287 0.05911041\n",
      " 0.61353829 0.06507082 0.66339631 0.11955826 0.26544388 0.64250565\n",
      " 0.4091669  0.96318928 0.46594847 0.67428243 0.21867933 0.07589635\n",
      " 0.81767152 0.67244362 0.54069493 0.69927141 0.06445807 0.15393733\n",
      " 0.021095   0.93784515 0.93379595 0.42494252 0.15328392 0.06533829\n",
      " 0.1356693  0.00898073 0.30841298 0.3990402  0.93086773 0.17121198\n",
      " 0.83020287 0.29377598 0.77310539 0.46363427 0.94814568 0.4179543\n",
      " 0.32389839 0.90273206 0.65740382 0.8359411  0.34831359 0.6238356\n",
      " 0.61542653 0.31072326 0.95121802 0.52869952 0.89939962 0.39054565\n",
      " 0.37639463 0.85746443 0.26197188 0.32709928 0.57575807 0.61534353\n",
      " 0.17583217 0.4025767  0.09226577 0.38458429 0.50064794 0.63105331\n",
      " 0.87417847 0.99221445 0.4350097  0.97417607 0.03446369 0.24341617\n",
      " 0.55106546 0.44817249 0.50798209 0.43699794 0.94301071 0.47291964\n",
      " 0.57399767 0.43610515 0.05467788 0.73795767 0.04828423 0.93182078\n",
      " 0.52977104 0.47981866 0.60588035 0.38445472 0.22054435 0.85815457]\n"
     ]
    }
   ],
   "source": [
    "# Examples of action and observation\n",
    "print(\"sample action:\", env.action_space.sample())\n",
    "\n",
    "print(\"observation space shape:\", env.observation_space.shape)\n",
    "print(\"sample observation:\", env.observation_space.sample())"
   ],
   "metadata": {
    "collapsed": false,
    "pycharm": {
     "name": "#%%\n"
    }
   }
  },
  {
   "cell_type": "code",
   "execution_count": null,
   "outputs": [],
   "source": [
    "# Example of random actions (running env.redner() creates a window to display playground)\n",
    "for step in range(200):\n",
    "    env.render(\"human\")\n",
    "    env.step(env.action_space.sample())"
   ],
   "metadata": {
    "collapsed": false,
    "pycharm": {
     "name": "#%%\n",
     "is_executing": true
    }
   }
  },
  {
   "cell_type": "code",
   "execution_count": null,
   "outputs": [],
   "source": [
    "# Example of random actions (running env.render() plots the playground as an image per step)\n",
    "for step in range(200):\n",
    "    env.render(\"rgb_array\")\n",
    "    env.step(env.action_space.sample())"
   ],
   "metadata": {
    "collapsed": false,
    "pycharm": {
     "name": "#%%\n"
    }
   }
  },
  {
   "cell_type": "code",
   "execution_count": null,
   "outputs": [],
   "source": [
    "# Training the model\n",
    "model = PPO(\"MlpPolicy\", env, verbose=1)\n",
    "model.learn(total_timesteps=10_000)\n",
    "\n",
    "vec_env = model.get_env()\n",
    "obs = vec_env.reset()\n",
    "for i in range(1000):\n",
    "    action, _states = model.predict(obs, deterministic=True)\n",
    "    obs, reward, done, info = vec_env.step(action)\n",
    "    vec_env.render()\n",
    "    # VecEnv resets automatically\n",
    "    # if done:\n",
    "    #   obs = env.reset()"
   ],
   "metadata": {
    "collapsed": false,
    "pycharm": {
     "name": "#%%\n"
    }
   }
  },
  {
   "cell_type": "code",
   "execution_count": null,
   "outputs": [],
   "source": [
    "# Final step - close environment\n",
    "env.close()"
   ],
   "metadata": {
    "collapsed": false,
    "pycharm": {
     "name": "#%%\n"
    }
   }
  }
 ],
 "metadata": {
  "kernelspec": {
   "display_name": "Python 3",
   "language": "python",
   "name": "python3"
  },
  "language_info": {
   "codemirror_mode": {
    "name": "ipython",
    "version": 2
   },
   "file_extension": ".py",
   "mimetype": "text/x-python",
   "name": "python",
   "nbconvert_exporter": "python",
   "pygments_lexer": "ipython2",
   "version": "2.7.6"
  }
 },
 "nbformat": 4,
 "nbformat_minor": 0
}