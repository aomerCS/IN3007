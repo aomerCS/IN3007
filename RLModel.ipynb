{
 "cells": [
  {
   "cell_type": "code",
   "execution_count": 39,
   "metadata": {
    "collapsed": true
   },
   "outputs": [],
   "source": [
    "from gym_game.envs.pertubation_world import PerturbationEnv"
   ]
  },
  {
   "cell_type": "code",
   "execution_count": 40,
   "outputs": [],
   "source": [
    "from stable_baselines.common.env_checker import check_env"
   ],
   "metadata": {
    "collapsed": false,
    "pycharm": {
     "name": "#%%\n"
    }
   }
  },
  {
   "cell_type": "code",
   "execution_count": 41,
   "outputs": [
    {
     "ename": "AttributeError",
     "evalue": "module 'numpy' has no attribute 'zeroes'",
     "output_type": "error",
     "traceback": [
      "\u001B[1;31m---------------------------------------------------------------------------\u001B[0m",
      "\u001B[1;31mAttributeError\u001B[0m                            Traceback (most recent call last)",
      "Cell \u001B[1;32mIn[41], line 1\u001B[0m\n\u001B[1;32m----> 1\u001B[0m env \u001B[38;5;241m=\u001B[39m \u001B[43mPerturbationEnv\u001B[49m\u001B[43m(\u001B[49m\u001B[43m)\u001B[49m\n\u001B[0;32m      2\u001B[0m check_env(env)\n",
      "File \u001B[1;32m~\\Documents\\City_UOL\\Stage 3\\IN3007 Individual Project\\IN3007\\gym_game\\envs\\pertubation_world.py:22\u001B[0m, in \u001B[0;36mPerturbationEnv.__init__\u001B[1;34m(self)\u001B[0m\n\u001B[0;32m     14\u001B[0m \u001B[38;5;28;01mdef\u001B[39;00m \u001B[38;5;21m__init__\u001B[39m(\u001B[38;5;28mself\u001B[39m):\n\u001B[0;32m     15\u001B[0m     \u001B[38;5;66;03m# assume actions are float between 1 and -1\u001B[39;00m\n\u001B[0;32m     16\u001B[0m     \u001B[38;5;66;03m# linear ratio, angular velocity\u001B[39;00m\n\u001B[0;32m     17\u001B[0m     \u001B[38;5;28mself\u001B[39m\u001B[38;5;241m.\u001B[39maction_space \u001B[38;5;241m=\u001B[39m spaces\u001B[38;5;241m.\u001B[39mBox(\n\u001B[0;32m     18\u001B[0m         low\u001B[38;5;241m=\u001B[39mnp\u001B[38;5;241m.\u001B[39marray([\u001B[38;5;241m-\u001B[39m\u001B[38;5;241m1\u001B[39m, \u001B[38;5;241m-\u001B[39m\u001B[38;5;241m1\u001B[39m]),\n\u001B[0;32m     19\u001B[0m         high\u001B[38;5;241m=\u001B[39mnp\u001B[38;5;241m.\u001B[39marray([\u001B[38;5;241m1\u001B[39m, \u001B[38;5;241m1\u001B[39m]),\n\u001B[0;32m     20\u001B[0m         dtype\u001B[38;5;241m=\u001B[39mnp\u001B[38;5;241m.\u001B[39mfloat64)\n\u001B[0;32m     21\u001B[0m     \u001B[38;5;28mself\u001B[39m\u001B[38;5;241m.\u001B[39mobservation_space \u001B[38;5;241m=\u001B[39m spaces\u001B[38;5;241m.\u001B[39mBox(\n\u001B[1;32m---> 22\u001B[0m         low\u001B[38;5;241m=\u001B[39m\u001B[43mnp\u001B[49m\u001B[38;5;241;43m.\u001B[39;49m\u001B[43mzeroes\u001B[49m((\u001B[38;5;241m256\u001B[39m,\u001B[38;5;241m256\u001B[39m,\u001B[38;5;241m3\u001B[39m)),\n\u001B[0;32m     23\u001B[0m         high\u001B[38;5;241m=\u001B[39mnp\u001B[38;5;241m.\u001B[39mfull((\u001B[38;5;241m256\u001B[39m,\u001B[38;5;241m256\u001B[39m,\u001B[38;5;241m3\u001B[39m),\u001B[38;5;241m255\u001B[39m),\n\u001B[0;32m     24\u001B[0m         shape\u001B[38;5;241m=\u001B[39m(\u001B[38;5;241m256\u001B[39m,\u001B[38;5;241m256\u001B[39m,\u001B[38;5;241m3\u001B[39m))\n",
      "File \u001B[1;32m~\\Documents\\City_UOL\\Stage 3\\IN3007 Individual Project\\IN3007\\venv\\Lib\\site-packages\\numpy\\__init__.py:320\u001B[0m, in \u001B[0;36m__getattr__\u001B[1;34m(attr)\u001B[0m\n\u001B[0;32m    317\u001B[0m     \u001B[38;5;28;01mfrom\u001B[39;00m \u001B[38;5;21;01m.\u001B[39;00m\u001B[38;5;21;01mtesting\u001B[39;00m \u001B[38;5;28;01mimport\u001B[39;00m Tester\n\u001B[0;32m    318\u001B[0m     \u001B[38;5;28;01mreturn\u001B[39;00m Tester\n\u001B[1;32m--> 320\u001B[0m \u001B[38;5;28;01mraise\u001B[39;00m \u001B[38;5;167;01mAttributeError\u001B[39;00m(\u001B[38;5;124m\"\u001B[39m\u001B[38;5;124mmodule \u001B[39m\u001B[38;5;132;01m{!r}\u001B[39;00m\u001B[38;5;124m has no attribute \u001B[39m\u001B[38;5;124m\"\u001B[39m\n\u001B[0;32m    321\u001B[0m                      \u001B[38;5;124m\"\u001B[39m\u001B[38;5;132;01m{!r}\u001B[39;00m\u001B[38;5;124m\"\u001B[39m\u001B[38;5;241m.\u001B[39mformat(\u001B[38;5;18m__name__\u001B[39m, attr))\n",
      "\u001B[1;31mAttributeError\u001B[0m: module 'numpy' has no attribute 'zeroes'"
     ]
    }
   ],
   "source": [
    "env = PerturbationEnv()\n",
    "check_env(env)"
   ],
   "metadata": {
    "collapsed": false,
    "pycharm": {
     "name": "#%%\n"
    }
   }
  },
  {
   "cell_type": "code",
   "execution_count": null,
   "outputs": [],
   "source": [],
   "metadata": {
    "collapsed": false,
    "pycharm": {
     "name": "#%%\n"
    }
   }
  }
 ],
 "metadata": {
  "kernelspec": {
   "display_name": "Python 3",
   "language": "python",
   "name": "python3"
  },
  "language_info": {
   "codemirror_mode": {
    "name": "ipython",
    "version": 2
   },
   "file_extension": ".py",
   "mimetype": "text/x-python",
   "name": "python",
   "nbconvert_exporter": "python",
   "pygments_lexer": "ipython2",
   "version": "2.7.6"
  }
 },
 "nbformat": 4,
 "nbformat_minor": 0
}